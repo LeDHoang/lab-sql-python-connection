{
 "cells": [
  {
   "cell_type": "code",
   "execution_count": null,
   "id": "41cabc7d-e784-4a9f-8fbc-c6bb43dd78d8",
   "metadata": {},
   "outputs": [],
   "source": [
    "!pip install sqlalchemy\n",
    "!pip install pymysql\n",
    "!pip show sqlalchemy | grep Version\n",
    "!pip install --upgrade sqlalchemy"
   ]
  },
  {
   "cell_type": "code",
   "execution_count": null,
   "id": "5ee6fe70-8790-48c0-943e-64d25e622a60",
   "metadata": {},
   "outputs": [],
   "source": [
    "import pandas as pd\n",
    "import numpy as np\n",
    "import pymysql\n",
    "from sqlalchemy import create_engine\n",
    "import getpass  # To get the password without showing the input\n",
    "password = getpass.getpass()\n",
    "\n",
    "# Note that when you use _SQLAlchemy_ and establish the connection, you do not even need to be logged in Sequel Pro or MySQL Workbench."
   ]
  },
  {
   "cell_type": "code",
   "execution_count": null,
   "id": "340edf9a-56b1-441d-9255-b9ca9c067686",
   "metadata": {},
   "outputs": [],
   "source": [
    "bd = \"sakila\"\n",
    "connection_string = 'mysql+pymysql://root:' + password + '@localhost/'+bd\n",
    "engine = create_engine(connection_string)\n",
    "engine"
   ]
  },
  {
   "cell_type": "code",
   "execution_count": null,
   "id": "00ebe823-625c-44c2-9df7-5215895d8747",
   "metadata": {},
   "outputs": [],
   "source": [
    "!pip install cryptography\n"
   ]
  },
  {
   "cell_type": "code",
   "execution_count": null,
   "id": "6ca0db50-64a8-4870-bc14-b3be9bec4b11",
   "metadata": {},
   "outputs": [],
   "source": [
    "from sqlalchemy import text\n",
    "\n",
    "with engine.connect() as connection:\n",
    "    query = text('SELECT * FROM actor')\n",
    "    result = connection.execute(query)\n",
    "    for row in result.mappings():\n",
    "        print(row)"
   ]
  },
  {
   "cell_type": "markdown",
   "id": "21a640ca-5849-4b31-a65c-6c6e73a14882",
   "metadata": {},
   "source": [
    "Challenge\n",
    "In this lab, the objective is to identify the customers who were active in both May and June, and how did their activity differ between months. To achieve this, follow these steps:\n",
    "\n",
    "Establish a connection between Python and the Sakila database. X\n",
    "\n",
    "Write a Python function called rentals_month that retrieves rental data for a given month and year (passed as parameters) from the Sakila database as a Pandas DataFrame. The function should take in three parameters:\n",
    "\n",
    "engine: an object representing the database connection engine to be used to establish a connection to the Sakila database.\n",
    "month: an integer representing the month for which rental data is to be retrieved.\n",
    "year: an integer representing the year for which rental data is to be retrieved.\n",
    "The function should execute a SQL query to retrieve the rental data for the specified month and year from the rental table in the Sakila database, and return it as a pandas DataFrame.\n",
    "\n",
    "Develop a Python function called rental_count_month that takes the DataFrame provided by rentals_month as input along with the month and year and returns a new DataFrame containing the number of rentals made by each customer_id during the selected month and year.\n",
    "\n",
    "The function should also include the month and year as parameters and use them to name the new column according to the month and year, for example, if the input month is 05 and the year is 2005, the column name should be \"rentals_05_2005\".\n",
    "\n",
    "Hint: Consider making use of pandas groupby()\n",
    "\n",
    "Create a Python function called compare_rentals that takes two DataFrames as input containing the number of rentals made by each customer in different months and years. The function should return a combined DataFrame with a new 'difference' column, which is the difference between the number of rentals in the two months.\n",
    "\n"
   ]
  },
  {
   "cell_type": "code",
   "execution_count": null,
   "id": "0ae37fc8-8161-4486-8f09-72a9cbbe8883",
   "metadata": {},
   "outputs": [],
   "source": [
    "with engine.connect() as connection:\n",
    "    query = text('SELECT * FROM rental')\n",
    "    result = connection.execute(query)\n",
    "    for row in result.mappings():\n",
    "        print(row)"
   ]
  },
  {
   "cell_type": "code",
   "execution_count": null,
   "id": "e8d6a966-bf12-4f2f-b48d-1ef839834cd7",
   "metadata": {},
   "outputs": [],
   "source": [
    "# Write a Python function called rentals_month that retrieves rental data for a given month and year (passed as parameters) from the Sakila database as a Pandas DataFram\n",
    "def rentals_month(engine, month, year):\n",
    "    query = f\"\"\"\n",
    "    SELECT rental_id, rental_date, inventory_id, customer_id, return_date, staff_id, last_update\n",
    "    FROM rental\n",
    "    WHERE MONTH(rental_date) = {month} AND YEAR(rental_date) = {year};\n",
    "    \"\"\"\n",
    "    df = pd.read_sql(query, engine)\n",
    "    df['rental_date'] = pd.to_datetime(df['rental_date'])\n",
    "    df['return_date'] = pd.to_datetime(df['return_date'])\n",
    "    df['last_update'] = pd.to_datetime(df['last_update'])\n",
    "    return df"
   ]
  },
  {
   "cell_type": "code",
   "execution_count": null,
   "id": "09dfa339-77cf-456b-b55c-6a30e4706216",
   "metadata": {},
   "outputs": [],
   "source": [
    "rentals_may = rentals_month(engine, 5, 2005)\n",
    "rentals_may"
   ]
  },
  {
   "cell_type": "code",
   "execution_count": null,
   "id": "8602e0ae-67a5-49a1-ac41-a804f3209e9f",
   "metadata": {},
   "outputs": [],
   "source": [
    "rentals_august = rentals_month(engine, 8, 2005)\n",
    "rentals_august\n",
    "rentals_june = rentals_month(engine, 6, 2005)\n"
   ]
  },
  {
   "cell_type": "code",
   "execution_count": null,
   "id": "12c9cfd7-4089-4c48-9a6b-97f4e1f468d3",
   "metadata": {},
   "outputs": [],
   "source": [
    "#Develop a Python function called rental_count_month that takes the DataFrame provided by rentals_month as input along \n",
    "#with the month and year and returns a new DataFrame containing the number of rentals made by each customer_id during \n",
    "#the selected month and year.\n",
    "def rental_count_month(rentals_df, month, year):\n",
    "    rentals_count_df = rentals_df.groupby('customer_id').size().reset_index(name=f'rentals_in_{month:02}/{year}')\n",
    "    return rentals_count_df\n"
   ]
  },
  {
   "cell_type": "code",
   "execution_count": null,
   "id": "a2c907f2-3f42-42c2-a9bd-b2ff1f0ab7a9",
   "metadata": {},
   "outputs": [],
   "source": [
    "rental_counts_may = rental_count_month(rentals_may, 5, 2005)\n",
    "rental_counts_may\n"
   ]
  },
  {
   "cell_type": "code",
   "execution_count": null,
   "id": "7b2b68c3-f964-4554-9680-e285c7affa91",
   "metadata": {},
   "outputs": [],
   "source": [
    "rental_counts_august = rental_count_month(rentals_august, 8, 2005)\n",
    "rental_counts_august\n",
    "rental_counts_june = rental_count_month(rentals_june, 6, 2005)\n"
   ]
  },
  {
   "cell_type": "code",
   "execution_count": null,
   "id": "9a75b176-482d-494b-857f-56ad9488766b",
   "metadata": {},
   "outputs": [],
   "source": [
    "#Create a Python function called compare_rentals that takes two DataFrames as input containing the number of rentals\n",
    "#made by each customer in different months and years. The function should return a combined DataFrame with a new \n",
    "#'difference' column, which is the difference between the number of rentals in the two months.\n",
    "def compare_rentals (df1, df2):\n",
    "    combined_df = pd.merge(df1, df2, on='customer_id', how='outer').fillna(0)\n",
    "    rental_month1 = df1.columns[1]\n",
    "    rental_month2 = df2.columns[1]\n",
    "    combined_df['difference'] = combined_df[rental_month1] - combined_df[rental_month2]\n",
    "    # combined_df = combined_df.sort_values(by='difference', ascending=False)\n",
    "    return combined_df\n",
    "    "
   ]
  },
  {
   "cell_type": "code",
   "execution_count": null,
   "id": "cdb40cd2-6791-4888-877e-1747dd255f54",
   "metadata": {},
   "outputs": [],
   "source": [
    "compare_result = compare_rentals(rental_counts_may,rental_counts_august)"
   ]
  },
  {
   "cell_type": "code",
   "execution_count": null,
   "id": "c2538656-6f9e-41d7-b1a8-4fce82609613",
   "metadata": {},
   "outputs": [],
   "source": [
    "compare_result"
   ]
  },
  {
   "cell_type": "code",
   "execution_count": null,
   "id": "a4747bf8-d55d-452c-8d4a-73ef3ab64274",
   "metadata": {},
   "outputs": [],
   "source": [
    "compare_result2 = compare_rentals(rental_counts_may,rental_counts_june)\n",
    "compare_result2"
   ]
  },
  {
   "cell_type": "code",
   "execution_count": null,
   "id": "b2452929-bb74-4f8c-aa67-3de88bd68ca9",
   "metadata": {},
   "outputs": [],
   "source": []
  },
  {
   "cell_type": "code",
   "execution_count": null,
   "id": "9cdf4afe-db6b-4fd1-a23a-bf599e59b6a7",
   "metadata": {},
   "outputs": [],
   "source": []
  }
 ],
 "metadata": {
  "kernelspec": {
   "display_name": "Python 3 (ipykernel)",
   "language": "python",
   "name": "python3"
  },
  "language_info": {
   "codemirror_mode": {
    "name": "ipython",
    "version": 3
   },
   "file_extension": ".py",
   "mimetype": "text/x-python",
   "name": "python",
   "nbconvert_exporter": "python",
   "pygments_lexer": "ipython3",
   "version": "3.12.3"
  }
 },
 "nbformat": 4,
 "nbformat_minor": 5
}
